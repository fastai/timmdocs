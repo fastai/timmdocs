{
 "cells": [
  {
   "cell_type": "markdown",
   "metadata": {},
   "source": [
    "# MultiStepLRScheduler"
   ]
  },
  {
   "cell_type": "markdown",
   "metadata": {},
   "source": [
    "`MultiStepLRScheduler` decay learning rate at given epochs."
   ]
  },
  {
   "cell_type": "markdown",
   "metadata": {},
   "source": [
    "`MultiStepLRScheduler` is very similar to `StepLRScheduler`.\\\n",
    "Difference is `MultiStepLRScheduler` decay LR at given epochs but `StepLRScheduler` decay LR after every `decay_t` epochs.  \n",
    "It is possible to do warmup and add noise."
   ]
  },
  {
   "cell_type": "code",
   "execution_count": 1,
   "metadata": {},
   "outputs": [],
   "source": [
    "#hide\n",
    "%load_ext autoreload\n",
    "%autoreload 2"
   ]
  },
  {
   "cell_type": "code",
   "execution_count": 2,
   "metadata": {},
   "outputs": [],
   "source": [
    "#hide \n",
    "import torch\n",
    "from matplotlib import pyplot as plt\n",
    "from timm.scheduler.step_lr import StepLRScheduler"
   ]
  },
  {
   "cell_type": "code",
   "execution_count": 3,
   "metadata": {},
   "outputs": [
    {
     "data": {
      "text/markdown": [
       "<h2 id=\"MultiStepLRScheduler\" class=\"doc_header\"><code>class</code> <code>MultiStepLRScheduler</code><a href=\"timm/scheduler/multistep_lr.py#L10\" class=\"source_link\" style=\"float:right\">[source]</a></h2>\n",
       "\n",
       "> <code>MultiStepLRScheduler</code>(**`optimizer`**:`Optimizer`, **`decay_t`**:`List`\\[`int`\\], **`decay_rate`**:`float`=*`1.0`*, **`warmup_t`**=*`0`*, **`warmup_lr_init`**=*`0`*, **`t_in_epochs`**=*`True`*, **`noise_range_t`**=*`None`*, **`noise_pct`**=*`0.67`*, **`noise_std`**=*`1.0`*, **`noise_seed`**=*`42`*, **`initialize`**=*`True`*) :: `Scheduler`\n",
       "\n",
       "    "
      ],
      "text/plain": [
       "<IPython.core.display.Markdown object>"
      ]
     },
     "metadata": {},
     "output_type": "display_data"
    }
   ],
   "source": [
    "from nbdev.showdoc import show_doc\n",
    "from timm.scheduler.multistep_lr import MultiStepLRScheduler\n",
    "show_doc(MultiStepLRScheduler)"
   ]
  },
  {
   "cell_type": "code",
   "execution_count": 4,
   "metadata": {},
   "outputs": [],
   "source": [
    "#hide\n",
    "model = torch.nn.Linear(1, 1)  # Simple dummy model to create dummy optimizer\n",
    "lr = 0.1\n",
    "optimizer = torch.optim.Adam(model.parameters(), lr=lr)\n",
    "t_initial = 50"
   ]
  },
  {
   "cell_type": "code",
   "execution_count": 5,
   "metadata": {},
   "outputs": [],
   "source": [
    "#hide\n",
    "def calculate_lr(scheduler: MultiStepLRScheduler, num_epoch):\n",
    "    return [scheduler.get_epoch_values(epoch) for epoch in range(num_epoch)]"
   ]
  },
  {
   "cell_type": "code",
   "execution_count": 6,
   "metadata": {},
   "outputs": [],
   "source": [
    "#hide\n",
    "def calculate_noisy_lr(scheduler: MultiStepLRScheduler, num_epoch):\n",
    "    lr_list = []\n",
    "    for epoch in range(num_epoch):\n",
    "        lr_list.append(scheduler.optimizer.param_groups[0]['lr'])\n",
    "        scheduler.step(epoch)\n",
    "    return lr_list"
   ]
  },
  {
   "cell_type": "code",
   "execution_count": 7,
   "metadata": {},
   "outputs": [],
   "source": [
    "#hide\n",
    "def plot_lr(scheduler, num_epochs=50, label=''):\n",
    "    plt.plot(calculate_lr(scheduler, num_epochs), label=label)"
   ]
  },
  {
   "cell_type": "code",
   "execution_count": 8,
   "metadata": {},
   "outputs": [],
   "source": [
    "#hide\n",
    "def plot_noisy_lr(scheduler, num_epochs=50, label=''):\n",
    "    plt.plot(calculate_noisy_lr(scheduler, num_epochs),label=label)"
   ]
  },
  {
   "cell_type": "markdown",
   "metadata": {},
   "source": [
    "The schedule looks something like:"
   ]
  },
  {
   "cell_type": "code",
   "execution_count": 9,
   "metadata": {},
   "outputs": [
    {
     "data": {
      "image/png": "[encoded data removed]",
      "text/plain": [
       "<Figure size 432x288 with 1 Axes>"
      ]
     },
     "metadata": {
      "needs_background": "light"
     },
     "output_type": "display_data"
    }
   ],
   "source": [
    "#hide_input\n",
    "scheduler = MultiStepLRScheduler(optimizer, decay_t=[15, 35], decay_rate=0.5)\n",
    "plot_lr(scheduler, label='MultiStepLR at epoch 15, 35')\n",
    "\n",
    "scheduler = StepLRScheduler(optimizer, decay_t=10, decay_rate=0.5)\n",
    "plot_lr(scheduler, label='StepLR every 10 epochs')\n",
    "plt.legend();"
   ]
  },
  {
   "cell_type": "markdown",
   "metadata": {},
   "source": [
    "## Using `MultiStepLRScheduler` scheduler with `timm` training script"
   ]
  },
  {
   "cell_type": "markdown",
   "metadata": {},
   "source": [
    "To train models using the `MultiStepLRScheduler` we simply update the training script args passed by passing in `--sched multistep` parameter alongside the necessary hyperparams. In this section we will also look at how each of the hyperparams update the `MultiStepLRScheduler` scheduler. "
   ]
  },
  {
   "cell_type": "markdown",
   "metadata": {},
   "source": [
    "The training command to use `MultiStepLRScheduler` scheduler looks something like: \n",
    "\n",
    "```python \n",
    "python train.py ../imagenette2-320/ --sched multistep\n",
    "```"
   ]
  },
  {
   "cell_type": "markdown",
   "metadata": {},
   "source": [
    "Availible parameters are: \n",
    "\n",
    "--epochs - initial number of epoch to train. default 300.  \n",
    "--lr - learning rate (default: 0.05)  \n",
    "\n",
    "--decay-epochs - epoch interval to decay LR , (default: 100), `decay_t` argument in python script   \n",
    "--decay-rate - LR decay rate (default: 0.1)   \n",
    "\n",
    "\n",
    "warmup parameters:  \n",
    "--warmup-lr' - warmup learning rate (default: 0.0001)  \n",
    "--warmup-epochs - epochs to warmup LR, if scheduler supports (default: 3)  \n",
    "\n",
    "noise parameters:  \n",
    "--lr-noise - learning rate noise on/off epoch percentages  \n",
    "--lr-noise-pct - learning rate noise limit percent (default: 0.67)  \n",
    "--seed - random seed (default: 42) to seed noise generator.  \n"
   ]
  },
  {
   "cell_type": "markdown",
   "metadata": {},
   "source": [
    "## Using in python script."
   ]
  },
  {
   "cell_type": "markdown",
   "metadata": {},
   "source": [
    "`MultiStepLRScheduler` accepts two required arguments - an `optimizer` and `decay_t`, and also some hyperparams which we will look into in detail below."
   ]
  },
  {
   "cell_type": "markdown",
   "metadata": {},
   "source": [
    "Basic usage like this:"
   ]
  },
  {
   "cell_type": "markdown",
   "metadata": {},
   "source": [
    "\n",
    "```python \n",
    "from timm.scheduler.poly_lr import MultiStepLRScheduler\n",
    "scheduler = MultiStepLRScheduler(optimizer, decay_t=[step_t, step_t1])\n",
    "```\n"
   ]
  },
  {
   "cell_type": "markdown",
   "metadata": {},
   "source": [
    "### Required arguments."
   ]
  },
  {
   "cell_type": "markdown",
   "metadata": {},
   "source": [
    "`optimizer` is object of `torch.optim.Optimizer`  \n",
    "`decay_t` - list of epochs number to decay LR."
   ]
  },
  {
   "cell_type": "markdown",
   "metadata": {},
   "source": [
    "Default schedule:\\\n",
    "Default value for `decay_rate` is 1., so no decay.\\\n",
    "Default parameter for `decay_rate` at train script `--decay-rate` if is 0.1."
   ]
  },
  {
   "cell_type": "code",
   "execution_count": 10,
   "metadata": {
    "scrolled": true
   },
   "outputs": [
    {
     "data": {
      "image/png": "[encoded data removed]",
      "text/plain": [
       "<Figure size 432x288 with 1 Axes>"
      ]
     },
     "metadata": {
      "needs_background": "light"
     },
     "output_type": "display_data"
    }
   ],
   "source": [
    "scheduler = MultiStepLRScheduler(optimizer, decay_t=[10, 30])\n",
    "plot_lr(scheduler, label='default')\n",
    "\n",
    "scheduler = MultiStepLRScheduler(optimizer, decay_t=[10, 30], decay_rate=0.1)\n",
    "plot_lr(scheduler, label='decay_rate=0.1, default at train script')\n",
    "\n",
    "scheduler = MultiStepLRScheduler(optimizer, decay_t=[20], decay_rate=0.3)\n",
    "plot_lr(scheduler, label='decay_t=[20], decay_rate=0.3')\n",
    "\n",
    "plt.legend();"
   ]
  },
  {
   "cell_type": "markdown",
   "metadata": {},
   "source": [
    "### `decay_rate`"
   ]
  },
  {
   "cell_type": "markdown",
   "metadata": {},
   "source": [
    "`decay_rate` - multiplier for decay learning rate.  So, at every step number at the `decay_t` list, learning rate is decayed by `decay_rate`. If `decay_t=0.5` than at epoch `decay_t[0]` new learning rate will be set to `lr * decay_rate`. And so on on next step at next element from `decay_t`."
   ]
  },
  {
   "cell_type": "markdown",
   "metadata": {},
   "source": [
    "By setting `decay_t` = 5 and `decay_rate` = 1., we are telling the schedule to reduce the learning rate by decay_rate where new lr  `lr * decay_rate` every 5 epochs."
   ]
  },
  {
   "cell_type": "code",
   "execution_count": 11,
   "metadata": {
    "scrolled": true
   },
   "outputs": [
    {
     "data": {
      "image/png": "[encoded data removed]",
      "text/plain": [
       "<Figure size 432x288 with 1 Axes>"
      ]
     },
     "metadata": {
      "needs_background": "light"
     },
     "output_type": "display_data"
    }
   ],
   "source": [
    "scheduler = MultiStepLRScheduler(optimizer, decay_t=[20, 30], decay_rate=0.5)\n",
    "plot_lr(scheduler, label='decay_rate=0.5, decay_t=[20, 30]')\n",
    "\n",
    "scheduler = MultiStepLRScheduler(optimizer, decay_t=[15], decay_rate=0.3)\n",
    "plot_lr(scheduler, label='decay_rate=0.3, decay_t=[15]')\n",
    "\n",
    "scheduler = MultiStepLRScheduler(optimizer, decay_t=[10, 30], decay_rate=0.1)\n",
    "plot_lr(scheduler, label='decay_rate=0.1, decay_t=[10, 30]')\n",
    "plt.legend();"
   ]
  },
  {
   "cell_type": "markdown",
   "metadata": {},
   "source": [
    "## Warmup Args."
   ]
  },
  {
   "cell_type": "markdown",
   "metadata": {},
   "source": [
    "### `warmup_t` "
   ]
  },
  {
   "cell_type": "markdown",
   "metadata": {},
   "source": [
    "Defines the number of warmup epochs. "
   ]
  },
  {
   "cell_type": "markdown",
   "metadata": {},
   "source": [
    "### `warmup_lr_init` "
   ]
  },
  {
   "cell_type": "markdown",
   "metadata": {},
   "source": [
    "The initial learning rate during warmup. Default is 0."
   ]
  },
  {
   "cell_type": "code",
   "execution_count": 12,
   "metadata": {},
   "outputs": [
    {
     "data": {
      "image/png": "[encoded data removed]",
      "text/plain": [
       "<Figure size 432x288 with 1 Axes>"
      ]
     },
     "metadata": {
      "needs_background": "light"
     },
     "output_type": "display_data"
    }
   ],
   "source": [
    "scheduler = MultiStepLRScheduler(optimizer, decay_t=[20, 30], decay_rate=0.5)\n",
    "plot_lr(scheduler, label='no warmup')\n",
    "\n",
    "scheduler = MultiStepLRScheduler(optimizer, decay_t=[20, 30], decay_rate=0.5, warmup_t=2)\n",
    "plot_lr(scheduler, label=', warmup_t=2')\n",
    "\n",
    "scheduler = MultiStepLRScheduler(optimizer, decay_t=[20, 30], decay_rate=0.5, warmup_t=2, warmup_lr_init=0.05)\n",
    "plot_lr(scheduler, label='warmup_t=2, warmup_lr_init=0.05')\n",
    "\n",
    "plt.legend();"
   ]
  },
  {
   "cell_type": "markdown",
   "metadata": {},
   "source": [
    "As we can see by setting up `warmup_t` and `warmup_lr_init`, the scheduler first starts with a value of `warmup_lr_init`, then during `warmup_t` number of epochs gradually progresses up to the LR value at epoch `warmup_t + 1`."
   ]
  },
  {
   "cell_type": "markdown",
   "metadata": {},
   "source": [
    "## Noise Args."
   ]
  },
  {
   "cell_type": "markdown",
   "metadata": {},
   "source": [
    "### `noise_range_t`"
   ]
  },
  {
   "cell_type": "markdown",
   "metadata": {},
   "source": [
    "If it is number - its number of epoch when noise starts.  \n",
    "If list or tuple (of two elements) - first and second element is epoch number range, when noise applied."
   ]
  },
  {
   "cell_type": "markdown",
   "metadata": {},
   "source": [
    "The upper and lower limit of noise. "
   ]
  },
  {
   "cell_type": "code",
   "execution_count": 13,
   "metadata": {
    "scrolled": true
   },
   "outputs": [
    {
     "data": {
      "image/png": "[encoded data removed]",
      "text/plain": [
       "<Figure size 432x288 with 1 Axes>"
      ]
     },
     "metadata": {
      "needs_background": "light"
     },
     "output_type": "display_data"
    }
   ],
   "source": [
    "#hide\n",
    "scheduler = MultiStepLRScheduler(optimizer, decay_t=[15, 30], decay_rate=0.5, noise_range_t=40)\n",
    "plot_noisy_lr(scheduler, label='noise_range_t=40')\n",
    "\n",
    "scheduler = MultiStepLRScheduler(optimizer, decay_t=[15, 30], decay_rate=0.5, noise_range_t=[10, 30])\n",
    "plot_noisy_lr(scheduler, label='noise_range_t=[10, 30]')\n",
    "plt.legend();"
   ]
  },
  {
   "cell_type": "markdown",
   "metadata": {},
   "source": [
    "### `noise_pct`"
   ]
  },
  {
   "cell_type": "markdown",
   "metadata": {},
   "source": [
    " Percentage of noise to add. "
   ]
  },
  {
   "cell_type": "code",
   "execution_count": 14,
   "metadata": {},
   "outputs": [
    {
     "data": {
      "image/png": "[encoded data removed]",
      "text/plain": [
       "<Figure size 432x288 with 1 Axes>"
      ]
     },
     "metadata": {
      "needs_background": "light"
     },
     "output_type": "display_data"
    }
   ],
   "source": [
    "scheduler = MultiStepLRScheduler(optimizer, decay_t=[15, 30], decay_rate=0.5, noise_range_t=35)\n",
    "plot_noisy_lr(scheduler, label='noise_pct=0.65, def')\n",
    "\n",
    "scheduler = MultiStepLRScheduler(optimizer, decay_t=[15, 30], decay_rate=0.5, noise_range_t=[10, 30], noise_pct=0.2)\n",
    "plot_noisy_lr(scheduler, label='noise_pct=0.2')\n",
    "plt.legend();"
   ]
  },
  {
   "cell_type": "markdown",
   "metadata": {},
   "source": [
    "### `noise_std`"
   ]
  },
  {
   "cell_type": "markdown",
   "metadata": {},
   "source": [
    " Noise standard deviation. Now it is not implemented."
   ]
  },
  {
   "cell_type": "markdown",
   "metadata": {},
   "source": [
    "### `noise_seed`"
   ]
  },
  {
   "cell_type": "markdown",
   "metadata": {},
   "source": [
    "Seed to use to add random noise."
   ]
  },
  {
   "cell_type": "markdown",
   "metadata": {},
   "source": [
    "## Miscellaneous."
   ]
  },
  {
   "cell_type": "markdown",
   "metadata": {},
   "source": [
    "### `t_in_epochs`\n"
   ]
  },
  {
   "cell_type": "markdown",
   "metadata": {},
   "source": [
    "If set to False, the learning rates returned for epoch `t` are `None`."
   ]
  },
  {
   "cell_type": "code",
   "execution_count": 15,
   "metadata": {},
   "outputs": [
    {
     "data": {
      "text/plain": [
       "[None, None, None, None, None]"
      ]
     },
     "execution_count": 15,
     "metadata": {},
     "output_type": "execute_result"
    }
   ],
   "source": [
    "scheduler = MultiStepLRScheduler(optimizer, decay_t=[0], t_in_epochs=False)\n",
    "lr_per_epoch = calculate_lr(scheduler, 5)\n",
    "\n",
    "lr_per_epoch[:5]"
   ]
  },
  {
   "cell_type": "markdown",
   "metadata": {},
   "source": [
    "### `initialize`"
   ]
  },
  {
   "cell_type": "markdown",
   "metadata": {},
   "source": [
    "If True, then inside each param group of the `optimizer` a new field is set called `initial_{field_name}` where `field_name` refers to the field in param group that we are scheduling. Typically `field_name='lr'`."
   ]
  }
 ],
 "metadata": {
  "kernelspec": {
   "display_name": "Python 3 (ipykernel)",
   "language": "python",
   "name": "python3"
  },
  "language_info": {
   "codemirror_mode": {
    "name": "ipython",
    "version": 3
   },
   "file_extension": ".py",
   "mimetype": "text/x-python",
   "name": "python",
   "nbconvert_exporter": "python",
   "pygments_lexer": "ipython3",
   "version": "3.9.6"
  },
  "toc": {
   "base_numbering": 1,
   "nav_menu": {},
   "number_sections": true,
   "sideBar": true,
   "skip_h1_title": false,
   "title_cell": "Table of Contents",
   "title_sidebar": "Contents",
   "toc_cell": false,
   "toc_position": {
    "height": "calc(100% - 180px)",
    "left": "10px",
    "top": "150px",
    "width": "341.323px"
   },
   "toc_section_display": true,
   "toc_window_display": true
  }
 },
 "nbformat": 4,
 "nbformat_minor": 4
}
