{
 "cells": [
  {
   "cell_type": "markdown",
   "metadata": {},
   "source": [
    "# Model Architectures (WIP)"
   ]
  },
  {
   "cell_type": "markdown",
   "metadata": {},
   "source": [
    "The model architectures included come from a wide variety of sources. Sources, including papers, original impl (\"reference code\") that [Ross](https://twitter.com/wightmanr) rewrote / adapted, and PyTorch impl that he leveraged directly (\"code\") are listed below.\n",
    "\n",
    "Most included models have pretrained weights. The weights are either:\n",
    "\n",
    "1. from their original sources\n",
    "2. ported by myself from their original impl in a different framework (e.g. Tensorflow models)\n",
    "3. trained from scratch using the included training script\n",
    "\n",
    "The validation results for the pretrained weights can be found [here](https://rwightman.github.io/pytorch-image-models/results/)."
   ]
  }
 ],
 "metadata": {
  "kernelspec": {
   "display_name": "Python 3",
   "language": "python",
   "name": "python3"
  }
 },
 "nbformat": 4,
 "nbformat_minor": 2
}
