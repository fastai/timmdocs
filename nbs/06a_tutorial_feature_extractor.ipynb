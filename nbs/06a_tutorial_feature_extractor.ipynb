{
 "cells": [
  {
   "cell_type": "markdown",
   "metadata": {},
   "source": [
    "# What all goes on inside the create_model function?"
   ]
  },
  {
   "cell_type": "markdown",
   "metadata": {},
   "source": [
    "In this tutorial, we will be taking a deep dive inside the source code of the `create_model` function. We will also show how can we convert any given model into a feature extractor. We have already seen an example of this [here](https://fastai.github.io/timmdocs/create_model#Turn-any-model-into-a-feature-extractor). We converted a `ResNet-34` architecture to a feature extractor to extract features from the 2nd, 3rd and 4th layers. "
   ]
  },
  {
   "cell_type": "markdown",
   "metadata": {},
   "source": [
    "In this tutorial we are going to dig deeper into the `create_model` source code and have a look at how is `timm` able to convert any model to a feature extractor. "
   ]
  },
  {
   "cell_type": "markdown",
   "metadata": {},
   "source": [
    "## The `create_model` function"
   ]
  },
  {
   "cell_type": "markdown",
   "metadata": {},
   "source": [
    "The `create_model` function is what is used to create hundreds of models inside `timm`. It also expects a bunch of `**kwargs` such as `features_only` and `out_indices` and passing these two `**kwargs` to the `create_model` function creates a feature extractor instead. Let's see how?"
   ]
  },
  {
   "cell_type": "markdown",
   "metadata": {},
   "source": [
    "The `create_model` function itself is only around 50-lines of code. So all the magic has to happen somewhere else. As you might already know, every model name inside `timm.list_models()` is actually a function. "
   ]
  },
  {
   "cell_type": "markdown",
   "metadata": {},
   "source": [
    "As an example:"
   ]
  },
  {
   "cell_type": "code",
   "execution_count": 1,
   "metadata": {},
   "outputs": [],
   "source": [
    "%load_ext autoreload\n",
    "%autoreload 2"
   ]
  },
  {
   "cell_type": "code",
   "execution_count": 2,
   "metadata": {},
   "outputs": [
    {
     "data": {
      "text/plain": [
       "True"
      ]
     },
     "execution_count": 2,
     "metadata": {},
     "output_type": "execute_result"
    }
   ],
   "source": [
    "import timm\n",
    "import random \n",
    "from timm.models import registry\n",
    "\n",
    "m = timm.list_models()[-1]\n",
    "registry.is_model(m)"
   ]
  },
  {
   "cell_type": "markdown",
   "metadata": {},
   "source": [
    "`timm` has an internal dictionary called `_model_entrypoints` that contains all the model names and their respective constructor functions. As an example, we could see get the constructor function for our `xception71` model through the `model_entrypoint` function inside `_model_entrypoints`."
   ]
  },
  {
   "cell_type": "code",
   "execution_count": 3,
   "metadata": {},
   "outputs": [
    {
     "data": {
      "text/plain": [
       "<function timm.models.xception_aligned.xception71(pretrained=False, **kwargs)>"
      ]
     },
     "execution_count": 3,
     "metadata": {},
     "output_type": "execute_result"
    }
   ],
   "source": [
    "constuctor_fn = registry.model_entrypoint(m)\n",
    "constuctor_fn"
   ]
  },
  {
   "cell_type": "markdown",
   "metadata": {},
   "source": [
    "As we can see there is a function called `xception71` inside `timm.models.xception_aligned` module. Similarly, every model has a constructor function inside `timm`. In fact, this internal `_model_entrypoints` dictionary looks something like: "
   ]
  },
  {
   "cell_type": "markdown",
   "metadata": {},
   "source": [
    "```python\n",
    "_model_entrypoints\n",
    "\n",
    ">> \n",
    "{\n",
    "'cspresnet50': <function timm.models.cspnet.cspresnet50(pretrained=False, **kwargs)>,\n",
    "'cspresnet50d': <function timm.models.cspnet.cspresnet50d(pretrained=False, **kwargs)>,\n",
    "'cspresnet50w': <function timm.models.cspnet.cspresnet50w(pretrained=False, **kwargs)>,\n",
    "'cspresnext50': <function timm.models.cspnet.cspresnext50(pretrained=False, **kwargs)>,\n",
    "'cspresnext50_iabn': <function timm.models.cspnet.cspresnext50_iabn(pretrained=False, **kwargs)>,\n",
    "'cspdarknet53': <function timm.models.cspnet.cspdarknet53(pretrained=False, **kwargs)>,\n",
    "'cspdarknet53_iabn': <function timm.models.cspnet.cspdarknet53_iabn(pretrained=False, **kwargs)>,\n",
    "'darknet53': <function timm.models.cspnet.darknet53(pretrained=False, **kwargs)>,\n",
    "'densenet121': <function timm.models.densenet.densenet121(pretrained=False, **kwargs)>,\n",
    "'densenetblur121d': <function timm.models.densenet.densenetblur121d(pretrained=False, **kwargs)>,\n",
    "'densenet121d': <function timm.models.densenet.densenet121d(pretrained=False, **kwargs)>,\n",
    "'densenet169': <function timm.models.densenet.densenet169(pretrained=False, **kwargs)>,\n",
    "'densenet201': <function timm.models.densenet.densenet201(pretrained=False, **kwargs)>,\n",
    "'densenet161': <function timm.models.densenet.densenet161(pretrained=False, **kwargs)>,\n",
    "'densenet264': <function timm.models.densenet.densenet264(pretrained=False, **kwargs)>,\n",
    "\n",
    "}\n",
    "```"
   ]
  },
  {
   "cell_type": "markdown",
   "metadata": {},
   "source": [
    "So, every model inside `timm` has a constructor defined inside the respective modules. For example, all ResNets have been defined inside `timm.models.resnet` module. Thus, there are two ways to create a `resnet34` model:"
   ]
  },
  {
   "cell_type": "code",
   "execution_count": 4,
   "metadata": {},
   "outputs": [],
   "source": [
    "import timm\n",
    "from timm.models.resnet import resnet34\n",
    "\n",
    "# using `create_model`\n",
    "m = timm.create_model('resnet34')\n",
    "\n",
    "# directly calling the constructor fn\n",
    "m = resnet34()"
   ]
  },
  {
   "cell_type": "markdown",
   "metadata": {},
   "source": [
    "In `timm`, you never really want to directly call the constructor function. All models should be created using the `create_model` function itself."
   ]
  },
  {
   "cell_type": "markdown",
   "metadata": {},
   "source": [
    "### Register model"
   ]
  },
  {
   "cell_type": "markdown",
   "metadata": {},
   "source": [
    "The source code of the `resnet34` constructor function looks like: "
   ]
  },
  {
   "cell_type": "markdown",
   "metadata": {},
   "source": [
    "```python\n",
    "@register_model\n",
    "def resnet34(pretrained=False, **kwargs):\n",
    "    \"\"\"Constructs a ResNet-34 model.\n",
    "    \"\"\"\n",
    "    model_args = dict(block=BasicBlock, layers=[3, 4, 6, 3], **kwargs)\n",
    "    return _create_resnet('resnet34', pretrained, **model_args)\n",
    "```"
   ]
  },
  {
   "cell_type": "markdown",
   "metadata": {},
   "source": [
    "> NOTE: You will find that every model inside `timm` has a `register_model` decorator. At the beginning, the `_model_entrypoints` is an empty dictionary. It is the `register_model` decorator that adds the given model function constructor along with it's name to `_model_entrypoints`. "
   ]
  },
  {
   "cell_type": "markdown",
   "metadata": {},
   "source": [
    "```python\n",
    "def register_model(fn):\n",
    "    # lookup containing module\n",
    "    mod = sys.modules[fn.__module__]\n",
    "    module_name_split = fn.__module__.split('.')\n",
    "    module_name = module_name_split[-1] if len(module_name_split) else ''\n",
    "\n",
    "    # add model to __all__ in module\n",
    "    model_name = fn.__name__\n",
    "    if hasattr(mod, '__all__'):\n",
    "        mod.__all__.append(model_name)\n",
    "    else:\n",
    "        mod.__all__ = [model_name]\n",
    "\n",
    "    # add entries to registry dict/sets\n",
    "    _model_entrypoints[model_name] = fn\n",
    "    _model_to_module[model_name] = module_name\n",
    "    _module_to_models[module_name].add(model_name)\n",
    "    has_pretrained = False  # check if model has a pretrained url to allow filtering on this\n",
    "    if hasattr(mod, 'default_cfgs') and model_name in mod.default_cfgs:\n",
    "        # this will catch all models that have entrypoint matching cfg key, but miss any aliasing\n",
    "        # entrypoints or non-matching combos\n",
    "        has_pretrained = 'url' in mod.default_cfgs[model_name] and 'http' in mod.default_cfgs[model_name]['url']\n",
    "    if has_pretrained:\n",
    "        _model_has_pretrained.add(model_name)\n",
    "    return fn\n",
    "```"
   ]
  },
  {
   "cell_type": "markdown",
   "metadata": {},
   "source": [
    "As can be seen above, the `register_model` function does some pretty basic steps. But the main one that I'd like to highlight is this one \n",
    "\n",
    "```python\n",
    "_model_entrypoints[model_name] = fn\n",
    "```\n",
    "\n",
    "Thus, it adds the given `fn` to `_model_entrypoints` where the key is `fn.__name__`. "
   ]
  },
  {
   "cell_type": "markdown",
   "metadata": {},
   "source": [
    "> NOTE: Can you now guess what does having `@register_model` decorator on the `resnet34` function do? It creates an entry inside the `_model_entrypoints` that looks like `{'resnet34': <function timm.models.resnet.resnet34(pretrained=False, **kwargs)>}`."
   ]
  },
  {
   "cell_type": "markdown",
   "metadata": {},
   "source": [
    "Also, just by looking at the source code of this `resnet34` constructor function, we can see that after setting up some `model_args` it then calls `create_resnet` function. Let's see how that looks like:"
   ]
  },
  {
   "cell_type": "markdown",
   "metadata": {},
   "source": [
    "```python\n",
    "def _create_resnet(variant, pretrained=False, **kwargs):\n",
    "    return build_model_with_cfg(\n",
    "        ResNet, variant, default_cfg=default_cfgs[variant], pretrained=pretrained, **kwargs)\n",
    "```"
   ]
  },
  {
   "cell_type": "markdown",
   "metadata": {},
   "source": [
    "So the `_create_resnet` function instead calls the `build_model_with_cfg` function passing in a constructor class `ResNet`, variant name `resnet34`, a `default_cfg` and some `**kwargs`. "
   ]
  },
  {
   "cell_type": "markdown",
   "metadata": {},
   "source": [
    "### Default config"
   ]
  },
  {
   "cell_type": "markdown",
   "metadata": {},
   "source": [
    "Every model inside `timm` has a default config. This contains the URL for the model pretrained weights, the number of classes to classify, input image size, pooling size and so on. "
   ]
  },
  {
   "cell_type": "markdown",
   "metadata": {},
   "source": [
    "The default config of `resnet34` looks like: \n",
    "\n",
    "```python\n",
    "{'url': 'https://github.com/rwightman/pytorch-image-models/releases/download/v0.1-weights/resnet34-43635321.pth',\n",
    "'num_classes': 1000,\n",
    "'input_size': (3, 224, 224),\n",
    "'pool_size': (7, 7),\n",
    "'crop_pct': 0.875,\n",
    "'interpolation': 'bilinear',\n",
    "'mean': (0.485, 0.456, 0.406),\n",
    "'std': (0.229, 0.224, 0.225),\n",
    "'first_conv': 'conv1',\n",
    "'classifier': 'fc'}\n",
    "```"
   ]
  },
  {
   "cell_type": "markdown",
   "metadata": {},
   "source": [
    "This default config get's passed to the `build_model_with_cfg` function along side the other arguments such as the constructor class and some model arguments. "
   ]
  },
  {
   "cell_type": "markdown",
   "metadata": {},
   "source": [
    "### Build model with config"
   ]
  },
  {
   "cell_type": "markdown",
   "metadata": {},
   "source": [
    "This `build_model_with_cfg` function is what's responsible for: \n",
    "1. Actually instantiating the model class to create the model inside `timm`\n",
    "2. Pruning the model if `pruned=True` \n",
    "3. Loading the pretrained weights if `pretrained=True` \n",
    "4. Converting the model to a feature extractor if `features=True`"
   ]
  },
  {
   "cell_type": "markdown",
   "metadata": {},
   "source": [
    "After inspecting the source code for this function:\n",
    "\n",
    "```python\n",
    "def build_model_with_cfg(\n",
    "        model_cls: Callable,\n",
    "        variant: str,\n",
    "        pretrained: bool,\n",
    "        default_cfg: dict,\n",
    "        model_cfg: dict = None,\n",
    "        feature_cfg: dict = None,\n",
    "        pretrained_strict: bool = True,\n",
    "        pretrained_filter_fn: Callable = None,\n",
    "        pretrained_custom_load: bool = False,\n",
    "        **kwargs):\n",
    "    pruned = kwargs.pop('pruned', False)\n",
    "    features = False\n",
    "    feature_cfg = feature_cfg or {}\n",
    "\n",
    "    if kwargs.pop('features_only', False):\n",
    "        features = True\n",
    "        feature_cfg.setdefault('out_indices', (0, 1, 2, 3, 4))\n",
    "        if 'out_indices' in kwargs:\n",
    "            feature_cfg['out_indices'] = kwargs.pop('out_indices')\n",
    "\n",
    "    model = model_cls(**kwargs) if model_cfg is None else model_cls(cfg=model_cfg, **kwargs)\n",
    "    model.default_cfg = deepcopy(default_cfg)\n",
    "    \n",
    "    if pruned:\n",
    "        model = adapt_model_from_file(model, variant)\n",
    "\n",
    "    # for classification models, check class attr, then kwargs, then default to 1k, otherwise 0 for feats\n",
    "    num_classes_pretrained = 0 if features else getattr(model, 'num_classes', kwargs.get('num_classes', 1000))\n",
    "    if pretrained:\n",
    "        if pretrained_custom_load:\n",
    "            load_custom_pretrained(model)\n",
    "        else:\n",
    "            load_pretrained(\n",
    "                model,\n",
    "                num_classes=num_classes_pretrained, in_chans=kwargs.get('in_chans', 3),\n",
    "                filter_fn=pretrained_filter_fn, strict=pretrained_strict)\n",
    "    \n",
    "    if features:\n",
    "        feature_cls = FeatureListNet\n",
    "        if 'feature_cls' in feature_cfg:\n",
    "            feature_cls = feature_cfg.pop('feature_cls')\n",
    "            if isinstance(feature_cls, str):\n",
    "                feature_cls = feature_cls.lower()\n",
    "                if 'hook' in feature_cls:\n",
    "                    feature_cls = FeatureHookNet\n",
    "                else:\n",
    "                    assert False, f'Unknown feature class {feature_cls}'\n",
    "        model = feature_cls(model, **feature_cfg)\n",
    "        model.default_cfg = default_cfg_for_features(default_cfg)  # add back default_cfg\n",
    "    \n",
    "    return model\n",
    "```"
   ]
  },
  {
   "cell_type": "markdown",
   "metadata": {},
   "source": [
    "One can see that the model get's created at this point `model = model_cls(**kwargs)`. \n",
    "\n",
    "Also, as part of this tutorial we are not going to look inside `pruned` and `adapt_model_from_file` function.  \n",
    "\n",
    "We have already understood and looked inside the `load_pretrained` function [here](https://fastai.github.io/timmdocs/models#My-dataset-doesn't-consist-of-3-channel-images---what-now?).\n",
    "\n",
    "And we take a deep dive inside the `FeatureListNet` [here]() that is responsible for converting our deep learning model to a Feature Extractor. "
   ]
  },
  {
   "cell_type": "markdown",
   "metadata": {},
   "source": [
    "### Summary"
   ]
  },
  {
   "cell_type": "markdown",
   "metadata": {},
   "source": [
    "That's really it. We have now completely looked at `timm.create_model` function. The main functions that get called are: \n",
    "\n",
    "- The model constructor function with is different for each model and set's up model specific arguments. The `_model_entrypoints` dictionary contains all the model names and respective constructor functions. \n",
    "- `build_with_model_cfg` function with accepts a model constructor class alongside the model specific arguments set inside the model constructor function.\n",
    "- `load_pretrained` which loads the pretrained weights. This also works when the number of input channels is not equal to 3 as in the case of ImageNet. \n",
    "- `FeatureListNet` class that is responsible for converting any model into a feature extractor. "
   ]
  }
 ],
 "metadata": {
  "kernelspec": {
   "display_name": "Python 3",
   "language": "python",
   "name": "python3"
  },
  "language_info": {
   "codemirror_mode": {
    "name": "ipython",
    "version": 3
   },
   "file_extension": ".py",
   "mimetype": "text/x-python",
   "name": "python",
   "nbconvert_exporter": "python",
   "pygments_lexer": "ipython3",
   "version": "3.8.5"
  },
  "toc": {
   "base_numbering": 1,
   "nav_menu": {},
   "number_sections": true,
   "sideBar": true,
   "skip_h1_title": false,
   "title_cell": "Table of Contents",
   "title_sidebar": "Contents",
   "toc_cell": false,
   "toc_position": {},
   "toc_section_display": true,
   "toc_window_display": false
  }
 },
 "nbformat": 4,
 "nbformat_minor": 4
}
